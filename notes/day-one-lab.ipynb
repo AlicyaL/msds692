{
 "cells": [
  {
   "cell_type": "markdown",
   "metadata": {},
   "source": [
    "# Day One: Sample data acquisition skill\n",
    "\n",
    "I'm teaching this class from the fundamentals upwards, which means that we study data formats and how the Internet works so that we can properly learn to scrape data from the web and use web APIs.   A problem with that approach is that it leaves some of the really cool stuff towards the end of the class. To mitigate this, I like to motivate the work you will do over the next few weeks by providing a simple example of how easy it is to go collected data from a cooperative website.  Most websites are uncooperative and so we have to learn to deal with those, which we will do during the class.  For now, let's figure out how to scrape some [data on the coronavirus from Wikipedia](https://en.wikipedia.org/wiki/COVID-19_pandemic_by_country_and_territory).\n",
    "\n",
    "I'd like everyone to read through this notebook and manually type all the code into your own notebook. This will give you some idea of where we are going and how straightforward it is in many cases."
   ]
  },
  {
   "cell_type": "markdown",
   "metadata": {},
   "source": [
    "## Inspect the first table element\n",
    "\n",
    "Using Chrome, go to URL:\n",
    "\n",
    "[https://en.wikipedia.org/wiki/COVID-19_pandemic_by_country_and_territory](https://en.wikipedia.org/wiki/COVID-19_pandemic_by_country_and_territory)\n",
    "\n",
    "and then right-click on the start of the table in the right gutter of the Wikipedia page and select <b>Inspect</b> from the drop-down menu. It should something that looks like this:\n",
    "\n",
    "<img src=\"figures/covid-inspect.png\" width=\"70%\">\n",
    "\n",
    "That shows you the raw HTML and what it corresponds to visually.  The next step is to use a program to extract that HTML."
   ]
  },
  {
   "cell_type": "markdown",
   "metadata": {},
   "source": [
    "## Get the raw HTML from the website"
   ]
  },
  {
   "cell_type": "code",
   "execution_count": 1,
   "metadata": {},
   "outputs": [],
   "source": [
    "!pip install -q -U requests              # we need these libraries\n",
    "!pip install -q -U beautifulsoup4"
   ]
  },
  {
   "cell_type": "code",
   "execution_count": 2,
   "metadata": {},
   "outputs": [
    {
     "name": "stdout",
     "output_type": "stream",
     "text": [
      "<!DOCTYPE html>\n",
      "<html class=\"client-nojs\" lang=\"en\" dir=\"ltr\">\n",
      "<head>\n",
      "<meta charset=\"UTF-8\"/>\n",
      "<title>COVID-19 pandemic by country and territory - Wikipedia</title>\n",
      "<script>document.documentElement.className=\"client-js\";RLCONF={\"wgBreakFrames\":!1,\"wgSeparatorTransformTable\":[\"\",\"\"],\"wgDigitTransformTable\":[\"\",\"\"],\"wgDefaultDateFormat\":\"dmy\",\"wgMonthNames\":[\"\",\"January\",\"February\",\"March\",\"April\",\"May\",\"June\",\"July\",\"August\",\"September\",\"October\",\"November\",\"December\"],\"wgRequestId\":\"adf92791-a6e2-4ae5-9398-b340ed9d0742\",\"wgCSPNonce\":!1,\"wgCanonicalNamespace\":\"\",\"wgCanonicalSpecialPageName\":!1,\"wgNamespaceNumber\":0,\"wgPageName\":\"COVID-19_pandemic_by_country_and_territory\",\"wgTitle\":\"COVID-19 pandemic by country and territory\",\"wgCurRevisionId\":1039966951,\"wgRevisionId\":1039966951,\"wgArticleId\":62938755,\"wgIsArticle\":!0,\"wgIsRedirect\":!1,\"wgAction\":\"view\",\"wgUserName\":null,\"wgUserGroups\":[\"*\"],\"wgCategories\":[\"Articles containing potentially dated statements from December 2020\",\"All artic\n"
     ]
    }
   ],
   "source": [
    "import requests\n",
    "\n",
    "CovidURL = \"https://en.wikipedia.org/wiki/COVID-19_pandemic_by_country_and_territory\"\n",
    "response = requests.get(CovidURL)\n",
    "print(response.text[0:1000])"
   ]
  },
  {
   "cell_type": "markdown",
   "metadata": {},
   "source": [
    "## Get specific tag using BeautifulSoup\n",
    "\n",
    "Now let's treat the text as HTML not just English text.  Then we can ask for a specific tag such as the title:"
   ]
  },
  {
   "cell_type": "code",
   "execution_count": 3,
   "metadata": {},
   "outputs": [
    {
     "name": "stdout",
     "output_type": "stream",
     "text": [
      "TITLE <title>COVID-19 pandemic by country and territory - Wikipedia</title>\n"
     ]
    }
   ],
   "source": [
    "from bs4 import BeautifulSoup\n",
    "\n",
    "soup = BeautifulSoup(response.text, \"html.parser\")\n",
    "title = soup.find('title')\n",
    "print(\"TITLE\", title)"
   ]
  },
  {
   "cell_type": "markdown",
   "metadata": {},
   "source": [
    "##  Get all text elements from all HTML tags\n",
    "\n",
    "We can also ask for all of the text elements not inside HTML tags:"
   ]
  },
  {
   "cell_type": "code",
   "execution_count": 4,
   "metadata": {},
   "outputs": [
    {
     "name": "stdout",
     "output_type": "stream",
     "text": [
      "    COVID-19 pandemic by country and territory - Wikipedia                                  COVID-19 pandemic by country and territory  From Wikipedia, the free encyclopedia    Jump to navigation Jump to search Data and maps, showing cases and deaths   COVID-19 pandemicConfirmed deaths per 100,000 population, as of 15 August 2021   555+  100–555  18–100  3.3–18  0.6–3.3  0.1–0.6  <0.1  No deaths or no dataDiseaseCOVID-19Virus strainSARS-CoV-2SourceProbably bats, possibly via pangolins[1][2]Locat\n"
     ]
    }
   ],
   "source": [
    "print(soup.text[0:500].replace('\\n', ' '))"
   ]
  },
  {
   "cell_type": "markdown",
   "metadata": {},
   "source": [
    "## Find all tables\n",
    "\n",
    "BeautifulSoup has a mechanism to find all of the tables (HTML `table` text) in an HTML document:"
   ]
  },
  {
   "cell_type": "code",
   "execution_count": 5,
   "metadata": {},
   "outputs": [],
   "source": [
    "tables = soup.findAll('table')"
   ]
  },
  {
   "cell_type": "markdown",
   "metadata": {},
   "source": [
    "The first table looks like this on the page:\n",
    " \n",
    "<img src=\"figures/covid-table-0.png\" width=\"30%\">\n",
    "\n",
    "and we can get the HTML representing each table:"
   ]
  },
  {
   "cell_type": "code",
   "execution_count": 6,
   "metadata": {},
   "outputs": [
    {
     "name": "stdout",
     "output_type": "stream",
     "text": [
      "<table class=\"infobox\"><tbody><tr><th class=\"infobox-above\" colspan=\"2\" style=\"background:#FFCCCB\">COVID-19 pandemic</th></tr><tr><td class=\"infobox-image\" colspan=\"2\" style=\"border-bottom:#aaa 1px solid;\"><a class=\"image\" href=\"/wiki/File:COVID-19_Outbreak_World_Map_Total_Deaths_per_Capita.svg\"><img alt=\"COVID-19 Outbreak World Map Total Deaths per Capita.svg\" data-file-height=\"1398\" data-file-width=\"2754\" decoding=\"async\" height=\"168\" src=\"//upload.wikimedia.org/wikipedia/commons/thumb/8/88/COVID-19_Outbreak_World_Map_Total_Deaths_per_Capita.svg/330px-COVID-19_Outbreak_World_Map_Total_Deaths_per_Capita.svg.png\" srcset=\"//upload.wikimedia.org/wikipedia/commons/thumb/8/88/COVID-19_Outbreak_World_Map_Total_Deaths_per_Capita.svg/495px-COVID-19_Outbreak_World_Map_Total_Deaths_per_Capita.svg.png 1.5x, //upload.wikimedia.org/wikipedia/commons/thumb/8/88/COVID-19_Outbreak_World_Map_Total_Deaths_per_Capita.svg/660px-COVID-19_Outbreak_World_Map_Total_Deaths_per_Capita.svg.png 2x\" width=\"330\"/>\n"
     ]
    }
   ],
   "source": [
    "t = str(tables[0])\n",
    "print(t[0:1000])"
   ]
  },
  {
   "cell_type": "markdown",
   "metadata": {},
   "source": [
    "That is raw HTML representing the table, but we can use a Jupyter notebook trick to display that text as HTML:"
   ]
  },
  {
   "cell_type": "code",
   "execution_count": 7,
   "metadata": {},
   "outputs": [
    {
     "data": {
      "text/html": [
       "<table class=\"infobox\"><tbody><tr><th class=\"infobox-above\" colspan=\"2\" style=\"background:#FFCCCB\">COVID-19 pandemic</th></tr><tr><td class=\"infobox-image\" colspan=\"2\" style=\"border-bottom:#aaa 1px solid;\"><a class=\"image\" href=\"/wiki/File:COVID-19_Outbreak_World_Map_Total_Deaths_per_Capita.svg\"><img alt=\"COVID-19 Outbreak World Map Total Deaths per Capita.svg\" data-file-height=\"1398\" data-file-width=\"2754\" decoding=\"async\" height=\"168\" src=\"//upload.wikimedia.org/wikipedia/commons/thumb/8/88/COVID-19_Outbreak_World_Map_Total_Deaths_per_Capita.svg/330px-COVID-19_Outbreak_World_Map_Total_Deaths_per_Capita.svg.png\" srcset=\"//upload.wikimedia.org/wikipedia/commons/thumb/8/88/COVID-19_Outbreak_World_Map_Total_Deaths_per_Capita.svg/495px-COVID-19_Outbreak_World_Map_Total_Deaths_per_Capita.svg.png 1.5x, //upload.wikimedia.org/wikipedia/commons/thumb/8/88/COVID-19_Outbreak_World_Map_Total_Deaths_per_Capita.svg/660px-COVID-19_Outbreak_World_Map_Total_Deaths_per_Capita.svg.png 2x\" width=\"330\"/></a><div class=\"infobox-caption\" style=\"text-align:left;\"><div class=\"center\" style=\"width:auto; margin-left:auto; margin-right:auto;\">Confirmed deaths per 100,000 population,<br/> as of 15 August 2021</div>\n",
       "<style data-mw-deduplicate=\"TemplateStyles:r998391716\">.mw-parser-output .div-col{margin-top:0.3em;column-width:30em}.mw-parser-output .div-col-small{font-size:90%}.mw-parser-output .div-col-rules{column-rule:1px solid #aaa}.mw-parser-output .div-col dl,.mw-parser-output .div-col ol,.mw-parser-output .div-col ul{margin-top:0}.mw-parser-output .div-col li,.mw-parser-output .div-col dd{page-break-inside:avoid;break-inside:avoid-column}</style><div class=\"div-col\" style=\"column-width: 8em;column-gap: 0;padding-left:3em;padding-bottom:5px;\"><div class=\"plainlist\"><ul><li style=\"margin: 0;\"><style data-mw-deduplicate=\"TemplateStyles:r981673959\">.mw-parser-output .legend{page-break-inside:avoid;break-inside:avoid-column}.mw-parser-output .legend-color{display:inline-block;min-width:1.25em;height:1.25em;line-height:1.25;margin:1px 0;text-align:center;border:1px solid black;background-color:transparent;color:black}.mw-parser-output .legend-text{}</style><div class=\"legend\"><span class=\"legend-color\" style=\"background-color:#080414; color:white;\"> </span> 555+</div></li><li style=\"margin: 0;\"><link href=\"mw-data:TemplateStyles:r981673959\" rel=\"mw-deduplicated-inline-style\"/><div class=\"legend\"><span class=\"legend-color\" style=\"background-color:#402050; color:white;\"> </span> 100–555</div></li><li style=\"margin: 0;\"><link href=\"mw-data:TemplateStyles:r981673959\" rel=\"mw-deduplicated-inline-style\"/><div class=\"legend\"><span class=\"legend-color\" style=\"background-color:#253494; color:white;\"> </span> 18–100</div></li><li style=\"margin: 0;\"><link href=\"mw-data:TemplateStyles:r981673959\" rel=\"mw-deduplicated-inline-style\"/><div class=\"legend\"><span class=\"legend-color\" style=\"background-color:#2c7fb8; color:black;\"> </span> 3.3–18</div></li><li style=\"margin: 0;\"><link href=\"mw-data:TemplateStyles:r981673959\" rel=\"mw-deduplicated-inline-style\"/><div class=\"legend\"><span class=\"legend-color\" style=\"background-color:#41b6c4; color:black;\"> </span> 0.6–3.3</div></li><li style=\"margin: 0;\"><link href=\"mw-data:TemplateStyles:r981673959\" rel=\"mw-deduplicated-inline-style\"/><div class=\"legend\"><span class=\"legend-color\" style=\"background-color:#7fcdbb; color:black;\"> </span> 0.1–0.6</div></li><li style=\"margin: 0;\"><link href=\"mw-data:TemplateStyles:r981673959\" rel=\"mw-deduplicated-inline-style\"/><div class=\"legend\"><span class=\"legend-color\" style=\"background-color:#c7e9b4; color:black;\"> </span> &lt;0.1</div></li><li style=\"margin: 0;\"><link href=\"mw-data:TemplateStyles:r981673959\" rel=\"mw-deduplicated-inline-style\"/><div class=\"legend\"><span class=\"legend-color\" style=\"background-color:#e0e0e0; color:black;\"> </span> No deaths or no data</div></li></ul></div></div></div></td></tr><tr><th class=\"infobox-label\" scope=\"row\">Disease</th><td class=\"infobox-data\"><a href=\"/wiki/COVID-19\" title=\"COVID-19\">COVID-19</a></td></tr><tr><th class=\"infobox-label\" scope=\"row\">Virus strain</th><td class=\"infobox-data\"><a href=\"/wiki/Severe_acute_respiratory_syndrome_coronavirus_2\" title=\"Severe acute respiratory syndrome coronavirus 2\">SARS-CoV-2</a></td></tr><tr><th class=\"infobox-label\" scope=\"row\">Source</th><td class=\"infobox-data\">Probably <a href=\"/wiki/Bat\" title=\"Bat\">bats</a>, possibly via <a href=\"/wiki/Pangolin\" title=\"Pangolin\">pangolins</a><sup class=\"reference\" id=\"cite_ref-reuters223180_1-0\"><a href=\"#cite_note-reuters223180-1\">[1]</a></sup><sup class=\"reference\" id=\"cite_ref-2\"><a href=\"#cite_note-2\">[2]</a></sup></td></tr><tr><th class=\"infobox-label\" scope=\"row\">Location</th><td class=\"infobox-data\"><a href=\"/wiki/World\" title=\"World\">Worldwide</a></td></tr><tr><th class=\"infobox-label\" scope=\"row\">First outbreak</th><td class=\"infobox-data\"><a href=\"/wiki/China\" title=\"China\">China</a><sup class=\"reference\" id=\"cite_ref-auto_3-0\"><a href=\"#cite_note-auto-3\">[3]</a></sup></td></tr><tr><th class=\"infobox-label\" scope=\"row\"><a href=\"/wiki/Index_case\" title=\"Index case\">Index case</a></th><td class=\"infobox-data\"><a href=\"/wiki/Wuhan\" title=\"Wuhan\">Wuhan</a>, <a href=\"/wiki/Hubei\" title=\"Hubei\">Hubei</a>, <a href=\"/wiki/China\" title=\"China\">China</a><br/><style data-mw-deduplicate=\"TemplateStyles:r994658806\">.mw-parser-output .geo-default,.mw-parser-output .geo-dms,.mw-parser-output .geo-dec{display:inline}.mw-parser-output .geo-nondefault,.mw-parser-output .geo-multi-punct{display:none}.mw-parser-output .longitude,.mw-parser-output .latitude{white-space:nowrap}</style><span class=\"plainlinks nourlexpansion\"><a class=\"external text\" href=\"//geohack.toolforge.org/geohack.php?pagename=COVID-19_pandemic_by_country_and_territory&amp;params=30_37_11_N_114_15_28_E_type:adm2nd_region:CN-42\"><span class=\"geo-default\"><span class=\"geo-dms\" title=\"Maps, aerial photos, and other data for this location\"><span class=\"latitude\">30°37′11″N</span> <span class=\"longitude\">114°15′28″E</span></span></span><span class=\"geo-multi-punct\">﻿ / ﻿</span><span class=\"geo-nondefault\"><span class=\"geo-dec\" title=\"Maps, aerial photos, and other data for this location\">30.61972°N 114.25778°E</span><span style=\"display:none\">﻿ / <span class=\"geo\">30.61972; 114.25778</span></span></span></a></span></td></tr><tr><th class=\"infobox-label\" scope=\"row\">Date</th><td class=\"infobox-data\">1 December 2019<span style=\"display:none\"> (<span class=\"bday dtstart published updated\">2019-12-01</span>)</span><sup class=\"reference\" id=\"cite_ref-auto_3-1\"><a href=\"#cite_note-auto-3\">[3]</a></sup> – present<br/>(1 year, 8 months, 3 weeks and 1 day)</td></tr><tr><th class=\"infobox-label\" scope=\"row\">Confirmed cases</th><td class=\"infobox-data\">212,128,476<sup class=\"reference\" id=\"cite_ref-JHU_ticker_4-0\"><a href=\"#cite_note-JHU_ticker-4\">[4]</a></sup></td></tr><tr><th class=\"infobox-label\" scope=\"row\"><div style=\"display:inline-block; padding:0.1em 0;line-height:1.2em;\">Deaths</div></th><td class=\"infobox-data\">4,435,812<sup class=\"reference\" id=\"cite_ref-JHU_ticker_4-1\"><a href=\"#cite_note-JHU_ticker-4\">[4]</a></sup></td></tr></tbody></table>"
      ],
      "text/plain": [
       "<IPython.core.display.HTML object>"
      ]
     },
     "execution_count": 7,
     "metadata": {},
     "output_type": "execute_result"
    }
   ],
   "source": [
    "from IPython.display import HTML # IPython is the underlying Python interpreter used by this notebook\n",
    "HTML(t)                          # Render the text in t as HTML"
   ]
  },
  {
   "cell_type": "markdown",
   "metadata": {},
   "source": [
    "## Using Pandas to read a URL to extract tables\n",
    "\n",
    "Pandas has a built-in mechanism to read a URL and extract all the table tags into dataframes. Extremely handy."
   ]
  },
  {
   "cell_type": "code",
   "execution_count": 8,
   "metadata": {},
   "outputs": [],
   "source": [
    "import pandas as pd\n",
    "\n",
    "tables = pd.read_html(CovidURL)"
   ]
  },
  {
   "cell_type": "markdown",
   "metadata": {},
   "source": [
    "### Summary table\n",
    "\n",
    "The first table again looks like this on the page:\n",
    " \n",
    "<img src=\"figures/covid-table-0.png\" width=\"30%\">"
   ]
  },
  {
   "cell_type": "markdown",
   "metadata": {},
   "source": [
    "And pandas can pull that into a data frame:"
   ]
  },
  {
   "cell_type": "code",
   "execution_count": 9,
   "metadata": {},
   "outputs": [
    {
     "data": {
      "text/html": [
       "<div>\n",
       "<style scoped>\n",
       "    .dataframe tbody tr th:only-of-type {\n",
       "        vertical-align: middle;\n",
       "    }\n",
       "\n",
       "    .dataframe tbody tr th {\n",
       "        vertical-align: top;\n",
       "    }\n",
       "\n",
       "    .dataframe thead th {\n",
       "        text-align: right;\n",
       "    }\n",
       "</style>\n",
       "<table border=\"1\" class=\"dataframe\">\n",
       "  <thead>\n",
       "    <tr style=\"text-align: right;\">\n",
       "      <th></th>\n",
       "      <th>COVID-19 pandemic</th>\n",
       "      <th>COVID-19 pandemic.1</th>\n",
       "    </tr>\n",
       "  </thead>\n",
       "  <tbody>\n",
       "    <tr>\n",
       "      <th>0</th>\n",
       "      <td>Confirmed deaths per 100,000 population, as of...</td>\n",
       "      <td>Confirmed deaths per 100,000 population, as of...</td>\n",
       "    </tr>\n",
       "    <tr>\n",
       "      <th>1</th>\n",
       "      <td>Disease</td>\n",
       "      <td>COVID-19</td>\n",
       "    </tr>\n",
       "    <tr>\n",
       "      <th>2</th>\n",
       "      <td>Virus strain</td>\n",
       "      <td>SARS-CoV-2</td>\n",
       "    </tr>\n",
       "    <tr>\n",
       "      <th>3</th>\n",
       "      <td>Source</td>\n",
       "      <td>Probably bats, possibly via pangolins[1][2]</td>\n",
       "    </tr>\n",
       "    <tr>\n",
       "      <th>4</th>\n",
       "      <td>Location</td>\n",
       "      <td>Worldwide</td>\n",
       "    </tr>\n",
       "    <tr>\n",
       "      <th>5</th>\n",
       "      <td>First outbreak</td>\n",
       "      <td>China[3]</td>\n",
       "    </tr>\n",
       "    <tr>\n",
       "      <th>6</th>\n",
       "      <td>Index case</td>\n",
       "      <td>Wuhan, Hubei, China.mw-parser-output .geo-defa...</td>\n",
       "    </tr>\n",
       "    <tr>\n",
       "      <th>7</th>\n",
       "      <td>Date</td>\n",
       "      <td>1 December 2019[3] – present(1 year, 8 months,...</td>\n",
       "    </tr>\n",
       "    <tr>\n",
       "      <th>8</th>\n",
       "      <td>Confirmed cases</td>\n",
       "      <td>212,128,476[4]</td>\n",
       "    </tr>\n",
       "    <tr>\n",
       "      <th>9</th>\n",
       "      <td>Deaths</td>\n",
       "      <td>4,435,812[4]</td>\n",
       "    </tr>\n",
       "  </tbody>\n",
       "</table>\n",
       "</div>"
      ],
      "text/plain": [
       "                                   COVID-19 pandemic  \\\n",
       "0  Confirmed deaths per 100,000 population, as of...   \n",
       "1                                            Disease   \n",
       "2                                       Virus strain   \n",
       "3                                             Source   \n",
       "4                                           Location   \n",
       "5                                     First outbreak   \n",
       "6                                         Index case   \n",
       "7                                               Date   \n",
       "8                                    Confirmed cases   \n",
       "9                                             Deaths   \n",
       "\n",
       "                                 COVID-19 pandemic.1  \n",
       "0  Confirmed deaths per 100,000 population, as of...  \n",
       "1                                           COVID-19  \n",
       "2                                         SARS-CoV-2  \n",
       "3        Probably bats, possibly via pangolins[1][2]  \n",
       "4                                          Worldwide  \n",
       "5                                           China[3]  \n",
       "6  Wuhan, Hubei, China.mw-parser-output .geo-defa...  \n",
       "7  1 December 2019[3] – present(1 year, 8 months,...  \n",
       "8                                     212,128,476[4]  \n",
       "9                                       4,435,812[4]  "
      ]
     },
     "execution_count": 9,
     "metadata": {},
     "output_type": "execute_result"
    }
   ],
   "source": [
    "tables[0]"
   ]
  },
  {
   "cell_type": "markdown",
   "metadata": {},
   "source": [
    "### Death rate table\n",
    "\n",
    "The death rate per country table is `table[9]` (found by trial-and-error) and looks like:\n",
    "\n",
    "<img src=\"figures/covid-table-1.png\" width=\"40%\">\n",
    "\n",
    "and we get a nice data frame from it too:"
   ]
  },
  {
   "cell_type": "code",
   "execution_count": 10,
   "metadata": {},
   "outputs": [
    {
     "data": {
      "text/html": [
       "<div>\n",
       "<style scoped>\n",
       "    .dataframe tbody tr th:only-of-type {\n",
       "        vertical-align: middle;\n",
       "    }\n",
       "\n",
       "    .dataframe tbody tr th {\n",
       "        vertical-align: top;\n",
       "    }\n",
       "\n",
       "    .dataframe thead th {\n",
       "        text-align: right;\n",
       "    }\n",
       "</style>\n",
       "<table border=\"1\" class=\"dataframe\">\n",
       "  <thead>\n",
       "    <tr style=\"text-align: right;\">\n",
       "      <th></th>\n",
       "      <th>Country</th>\n",
       "      <th>Confirmed cases</th>\n",
       "      <th>Deaths</th>\n",
       "      <th>Case fatality rate</th>\n",
       "      <th>Deaths per 100,000 population</th>\n",
       "    </tr>\n",
       "  </thead>\n",
       "  <tbody>\n",
       "    <tr>\n",
       "      <th>0</th>\n",
       "      <td>Peru</td>\n",
       "      <td>2141235</td>\n",
       "      <td>197818</td>\n",
       "      <td>9.2%</td>\n",
       "      <td>608.48</td>\n",
       "    </tr>\n",
       "    <tr>\n",
       "      <th>1</th>\n",
       "      <td>Hungary</td>\n",
       "      <td>810781</td>\n",
       "      <td>30046</td>\n",
       "      <td>3.7%</td>\n",
       "      <td>307.53</td>\n",
       "    </tr>\n",
       "    <tr>\n",
       "      <th>2</th>\n",
       "      <td>Bosnia and Herzegovina</td>\n",
       "      <td>209073</td>\n",
       "      <td>9722</td>\n",
       "      <td>4.7%</td>\n",
       "      <td>294.52</td>\n",
       "    </tr>\n",
       "    <tr>\n",
       "      <th>3</th>\n",
       "      <td>Czech Republic</td>\n",
       "      <td>1677512</td>\n",
       "      <td>30385</td>\n",
       "      <td>1.8%</td>\n",
       "      <td>284.78</td>\n",
       "    </tr>\n",
       "    <tr>\n",
       "      <th>4</th>\n",
       "      <td>Brazil</td>\n",
       "      <td>20570891</td>\n",
       "      <td>574527</td>\n",
       "      <td>2.8%</td>\n",
       "      <td>272.22</td>\n",
       "    </tr>\n",
       "    <tr>\n",
       "      <th>5</th>\n",
       "      <td>North Macedonia</td>\n",
       "      <td>168872</td>\n",
       "      <td>5668</td>\n",
       "      <td>3.4%</td>\n",
       "      <td>272.05</td>\n",
       "    </tr>\n",
       "    <tr>\n",
       "      <th>6</th>\n",
       "      <td>Montenegro</td>\n",
       "      <td>109962</td>\n",
       "      <td>1671</td>\n",
       "      <td>1.5%</td>\n",
       "      <td>268.59</td>\n",
       "    </tr>\n",
       "    <tr>\n",
       "      <th>7</th>\n",
       "      <td>San Marino</td>\n",
       "      <td>5231</td>\n",
       "      <td>90</td>\n",
       "      <td>1.7%</td>\n",
       "      <td>265.80</td>\n",
       "    </tr>\n",
       "    <tr>\n",
       "      <th>8</th>\n",
       "      <td>Bulgaria</td>\n",
       "      <td>441295</td>\n",
       "      <td>18475</td>\n",
       "      <td>4.2%</td>\n",
       "      <td>264.85</td>\n",
       "    </tr>\n",
       "    <tr>\n",
       "      <th>9</th>\n",
       "      <td>Colombia</td>\n",
       "      <td>4889537</td>\n",
       "      <td>124216</td>\n",
       "      <td>2.5%</td>\n",
       "      <td>246.76</td>\n",
       "    </tr>\n",
       "  </tbody>\n",
       "</table>\n",
       "</div>"
      ],
      "text/plain": [
       "                  Country  Confirmed cases  Deaths Case fatality rate  \\\n",
       "0                    Peru          2141235  197818               9.2%   \n",
       "1                 Hungary           810781   30046               3.7%   \n",
       "2  Bosnia and Herzegovina           209073    9722               4.7%   \n",
       "3          Czech Republic          1677512   30385               1.8%   \n",
       "4                  Brazil         20570891  574527               2.8%   \n",
       "5         North Macedonia           168872    5668               3.4%   \n",
       "6              Montenegro           109962    1671               1.5%   \n",
       "7              San Marino             5231      90               1.7%   \n",
       "8                Bulgaria           441295   18475               4.2%   \n",
       "9                Colombia          4889537  124216               2.5%   \n",
       "\n",
       "   Deaths per 100,000 population  \n",
       "0                         608.48  \n",
       "1                         307.53  \n",
       "2                         294.52  \n",
       "3                         284.78  \n",
       "4                         272.22  \n",
       "5                         272.05  \n",
       "6                         268.59  \n",
       "7                         265.80  \n",
       "8                         264.85  \n",
       "9                         246.76  "
      ]
     },
     "execution_count": 10,
     "metadata": {},
     "output_type": "execute_result"
    }
   ],
   "source": [
    "df_deaths = tables[9]\n",
    "df_deaths.head(10)"
   ]
  },
  {
   "cell_type": "markdown",
   "metadata": {},
   "source": [
    "As with any data frame, we can sort values and select columns of interest:"
   ]
  },
  {
   "cell_type": "code",
   "execution_count": 11,
   "metadata": {},
   "outputs": [
    {
     "data": {
      "text/html": [
       "<div>\n",
       "<style scoped>\n",
       "    .dataframe tbody tr th:only-of-type {\n",
       "        vertical-align: middle;\n",
       "    }\n",
       "\n",
       "    .dataframe tbody tr th {\n",
       "        vertical-align: top;\n",
       "    }\n",
       "\n",
       "    .dataframe thead th {\n",
       "        text-align: right;\n",
       "    }\n",
       "</style>\n",
       "<table border=\"1\" class=\"dataframe\">\n",
       "  <thead>\n",
       "    <tr style=\"text-align: right;\">\n",
       "      <th></th>\n",
       "      <th>Country</th>\n",
       "      <th>Deaths per 100,000 population</th>\n",
       "    </tr>\n",
       "  </thead>\n",
       "  <tbody>\n",
       "    <tr>\n",
       "      <th>0</th>\n",
       "      <td>Peru</td>\n",
       "      <td>608.48</td>\n",
       "    </tr>\n",
       "    <tr>\n",
       "      <th>1</th>\n",
       "      <td>Hungary</td>\n",
       "      <td>307.53</td>\n",
       "    </tr>\n",
       "    <tr>\n",
       "      <th>2</th>\n",
       "      <td>Bosnia and Herzegovina</td>\n",
       "      <td>294.52</td>\n",
       "    </tr>\n",
       "    <tr>\n",
       "      <th>3</th>\n",
       "      <td>Czech Republic</td>\n",
       "      <td>284.78</td>\n",
       "    </tr>\n",
       "    <tr>\n",
       "      <th>4</th>\n",
       "      <td>Brazil</td>\n",
       "      <td>272.22</td>\n",
       "    </tr>\n",
       "    <tr>\n",
       "      <th>5</th>\n",
       "      <td>North Macedonia</td>\n",
       "      <td>272.05</td>\n",
       "    </tr>\n",
       "    <tr>\n",
       "      <th>6</th>\n",
       "      <td>Montenegro</td>\n",
       "      <td>268.59</td>\n",
       "    </tr>\n",
       "    <tr>\n",
       "      <th>7</th>\n",
       "      <td>San Marino</td>\n",
       "      <td>265.80</td>\n",
       "    </tr>\n",
       "    <tr>\n",
       "      <th>8</th>\n",
       "      <td>Bulgaria</td>\n",
       "      <td>264.85</td>\n",
       "    </tr>\n",
       "    <tr>\n",
       "      <th>9</th>\n",
       "      <td>Colombia</td>\n",
       "      <td>246.76</td>\n",
       "    </tr>\n",
       "  </tbody>\n",
       "</table>\n",
       "</div>"
      ],
      "text/plain": [
       "                  Country  Deaths per 100,000 population\n",
       "0                    Peru                         608.48\n",
       "1                 Hungary                         307.53\n",
       "2  Bosnia and Herzegovina                         294.52\n",
       "3          Czech Republic                         284.78\n",
       "4                  Brazil                         272.22\n",
       "5         North Macedonia                         272.05\n",
       "6              Montenegro                         268.59\n",
       "7              San Marino                         265.80\n",
       "8                Bulgaria                         264.85\n",
       "9                Colombia                         246.76"
      ]
     },
     "execution_count": 11,
     "metadata": {},
     "output_type": "execute_result"
    }
   ],
   "source": [
    "df_death_rate = df_deaths[['Country','Deaths per 100,000 population']].sort_values('Deaths per 100,000 population', ascending=False)\n",
    "df_death_rate.head(10)"
   ]
  },
  {
   "cell_type": "markdown",
   "metadata": {},
   "source": [
    "Once we have a nice data structure like a data frame, it's very easy to build a plot, which is sometimes more satisfying than what we see in some report where we got the data."
   ]
  },
  {
   "cell_type": "code",
   "execution_count": 12,
   "metadata": {},
   "outputs": [],
   "source": [
    "df = df_deaths.sort_values('Deaths', ascending=False)\n",
    "df = df.head(30)\n",
    "countries = df['Country']\n",
    "deaths = df['Deaths']"
   ]
  },
  {
   "cell_type": "code",
   "execution_count": 13,
   "metadata": {},
   "outputs": [
    {
     "data": {
      "image/png": "[encoded data removed]",
      "text/plain": [
       "<Figure size 576x216 with 1 Axes>"
      ]
     },
     "metadata": {
      "image/png": {
       "height": 264,
       "width": 519
      },
      "needs_background": "light"
     },
     "output_type": "display_data"
    }
   ],
   "source": [
    "import matplotlib.pyplot as plt\n",
    "%config InlineBackend.figure_format = 'retina'\n",
    "\n",
    "fig, ax = plt.subplots(1, 1, figsize=(8,3))\n",
    "barcontainers = ax.bar(countries,deaths, color='#FEE08F')\n",
    "for rect in barcontainers.patches:\n",
    "    rect.set_linewidth(.5)\n",
    "    rect.set_edgecolor('grey')\n",
    "\n",
    "ax.set_xticks(countries)\n",
    "ax.set_xticklabels(countries, rotation=45, fontsize=8, horizontalalignment=\"right\")\n",
    "ax.spines['top'].set_visible(False)\n",
    "ax.spines['right'].set_visible(False)\n",
    "ax.spines['left'].set_linewidth(.5)\n",
    "ax.spines['bottom'].set_linewidth(.5)\n",
    "\n",
    "ax.set_title(\"Total deaths per country\")\n",
    "ax.set_ylabel(\"Deaths\")\n",
    "ax.set_xlabel(\"Country\")\n",
    "\n",
    "plt.show()"
   ]
  },
  {
   "cell_type": "markdown",
   "metadata": {},
   "source": [
    "Ok, well hopefully that was fun and gives you some idea of what we can do with just a few simple skills."
   ]
  }
 ],
 "metadata": {
  "kernelspec": {
   "display_name": "Python 3",
   "language": "python",
   "name": "python3"
  },
  "language_info": {
   "codemirror_mode": {
    "name": "ipython",
    "version": 3
   },
   "file_extension": ".py",
   "mimetype": "text/x-python",
   "name": "python",
   "nbconvert_exporter": "python",
   "pygments_lexer": "ipython3",
   "version": "3.8.8"
  }
 },
 "nbformat": 4,
 "nbformat_minor": 4
}
