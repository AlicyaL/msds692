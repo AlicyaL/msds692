{
 "cells": [
  {
   "cell_type": "markdown",
   "metadata": {},
   "source": [
    "# Review of object definition and usage"
   ]
  },
  {
   "cell_type": "markdown",
   "metadata": {},
   "source": [
    "## Types, methods, method calls"
   ]
  },
  {
   "cell_type": "markdown",
   "metadata": {},
   "source": [
    "It's safe to think of everything in Python as an object, which means that it's type will be some kind of class. A class is the blueprint for one or more objects and defines the behavior (via a list of methods) for each object of a specific class."
   ]
  },
  {
   "cell_type": "code",
   "execution_count": 1,
   "metadata": {},
   "outputs": [
    {
     "name": "stdout",
     "output_type": "stream",
     "text": [
      "<class 'int'>\n",
      "<class 'str'>\n",
      "<class 'numpy.ndarray'>\n"
     ]
    }
   ],
   "source": [
    "import numpy as np\n",
    "\n",
    "print(type(34))\n",
    "print(type(\"hi\"))\n",
    "print(type(np.array([1,2])))"
   ]
  },
  {
   "cell_type": "markdown",
   "metadata": {},
   "source": [
    "Every object has a field that points to the \"kind of thing it is\".  We use the term *class* to mean the kind of thing is:"
   ]
  },
  {
   "cell_type": "code",
   "execution_count": 2,
   "metadata": {},
   "outputs": [
    {
     "name": "stdout",
     "output_type": "stream",
     "text": [
      "<class 'int'>\n",
      "<class 'str'>\n",
      "<class 'numpy.ndarray'>\n"
     ]
    }
   ],
   "source": [
    "print((34).__class__)\n",
    "print(\"hi\".__class__)\n",
    "print(np.array([1,2]).__class__)"
   ]
  },
  {
   "cell_type": "markdown",
   "metadata": {},
   "source": [
    "Using `dir` we can get the list of methods associated with a particular objects class definition."
   ]
  },
  {
   "cell_type": "code",
   "execution_count": 3,
   "metadata": {},
   "outputs": [
    {
     "data": {
      "text/plain": [
       "['__abs__',\n",
       " '__add__',\n",
       " '__and__',\n",
       " '__bool__',\n",
       " '__ceil__',\n",
       " '__class__',\n",
       " '__delattr__',\n",
       " '__dir__',\n",
       " '__divmod__',\n",
       " '__doc__']"
      ]
     },
     "execution_count": 3,
     "metadata": {},
     "output_type": "execute_result"
    }
   ],
   "source": [
    "methods = dir(34) # get methods for integer objects\n",
    "methods[0:10]"
   ]
  },
  {
   "cell_type": "markdown",
   "metadata": {},
   "source": [
    "For example, `lower` is a method of class `str`."
   ]
  },
  {
   "cell_type": "code",
   "execution_count": 4,
   "metadata": {},
   "outputs": [
    {
     "data": {
      "text/plain": [
       "<function str.lower()>"
      ]
     },
     "execution_count": 4,
     "metadata": {},
     "output_type": "execute_result"
    }
   ],
   "source": [
    "\"HI\".lower"
   ]
  },
  {
   "cell_type": "code",
   "execution_count": 5,
   "metadata": {},
   "outputs": [
    {
     "data": {
      "text/plain": [
       "'hi'"
      ]
     },
     "execution_count": 5,
     "metadata": {},
     "output_type": "execute_result"
    }
   ],
   "source": [
    "\"HI\".lower()"
   ]
  },
  {
   "cell_type": "markdown",
   "metadata": {},
   "source": [
    "In `\"HI\".lower()` we are sending the `lower` message to the `\"HI\"` string object. Messages are really just functions associated with classes/objects."
   ]
  },
  {
   "cell_type": "markdown",
   "metadata": {},
   "source": [
    "In a language that does not support object learning programming, we would do something like:\n",
    "\n",
    "```python\n",
    "lower(x)\n",
    "```\n",
    "\n",
    "Python has both functions and object-oriented programming which is why there is both `x.lower()` and:"
   ]
  },
  {
   "cell_type": "code",
   "execution_count": 6,
   "metadata": {},
   "outputs": [
    {
     "data": {
      "text/plain": [
       "2"
      ]
     },
     "execution_count": 6,
     "metadata": {},
     "output_type": "execute_result"
    }
   ],
   "source": [
    "len(\"HI\")"
   ]
  },
  {
   "cell_type": "markdown",
   "metadata": {},
   "source": [
    "The choice of function or \"message\" is up to the library designer, but `lower` only makes sense for strings so it makes sense to group it with the definition of `str`.\n",
    "\n",
    "In terms of implementation, however, `x.lower()` is actually implemented as `str.lower(x)` where `str` is the class definition for strings. Computer processors understand function calls; they do not understand objects and so we performed this translation within the Python interpreter itself.\n",
    "\n",
    "Don't confuse object and package/module member access. The dot `.` operator is overloaded in Python to mean both package/module member and object member access.  You are familiar with this already:"
   ]
  },
  {
   "cell_type": "code",
   "execution_count": 7,
   "metadata": {},
   "outputs": [
    {
     "data": {
      "text/plain": [
       "array([1, 2, 3])"
      ]
     },
     "execution_count": 7,
     "metadata": {},
     "output_type": "execute_result"
    }
   ],
   "source": [
    "import numpy as np\n",
    "np.array([1,2,3])"
   ]
  },
  {
   "cell_type": "code",
   "execution_count": 8,
   "metadata": {},
   "outputs": [
    {
     "data": {
      "text/plain": [
       "8.006367567650246"
      ]
     },
     "execution_count": 8,
     "metadata": {},
     "output_type": "execute_result"
    }
   ],
   "source": [
    "import math\n",
    "math.log(3000)"
   ]
  },
  {
   "cell_type": "markdown",
   "metadata": {},
   "source": [
    "This is a common point of confusion when reading code. When we see `a.f()`, we don't know whether that function `f` is a member of the module identified by `a` or an object referred to by `a`."
   ]
  },
  {
   "cell_type": "markdown",
   "metadata": {},
   "source": [
    "**Fields versus methods**\n",
    "\n",
    "Objects have functions, which we call *methods* to distinguish them from functions not associated with objects. Objects also have variables, which we call *fields* or *instance variables*.  \n",
    "\n",
    "Fields are the *state* of the object.  Methods are the *behavior* of the object."
   ]
  },
  {
   "cell_type": "markdown",
   "metadata": {},
   "source": [
    "## Defining custom objects\n",
    "\n",
    "Let's say we wanted to load a bunch of documents into memory and each document has a title and content. We could just create a list of tuples:"
   ]
  },
  {
   "cell_type": "code",
   "execution_count": 9,
   "metadata": {},
   "outputs": [],
   "source": [
    "docs = [('Cats are Human', 'blah blah'),\n",
    "        ('Dogs are fun', 'yadda yadda')]"
   ]
  },
  {
   "cell_type": "markdown",
   "metadata": {},
   "source": [
    "The problem is that we don't get to name the individual elements of each document. For example, the title of the first document is `docs[0][0]`. Wouldn't it be better if we we could name the individual elements? Sure. Let's make each document be a dictionary:"
   ]
  },
  {
   "cell_type": "code",
   "execution_count": 10,
   "metadata": {},
   "outputs": [],
   "source": [
    "docs = [{'title':'Cats are Human', 'content':'blah blah'},\n",
    "        {'title':'Dogs are fun', 'content':'yadda yadda'}]"
   ]
  },
  {
   "cell_type": "markdown",
   "metadata": {},
   "source": [
    "Now, the title of the first document is `docs[0]['title']`:"
   ]
  },
  {
   "cell_type": "code",
   "execution_count": 11,
   "metadata": {},
   "outputs": [
    {
     "name": "stdout",
     "output_type": "stream",
     "text": [
      "Cats are Human : blah blah\n",
      "Dogs are fun : yadda yadda\n"
     ]
    }
   ],
   "source": [
    "for d in docs:\n",
    "    print(d['title'],':',d['content'])"
   ]
  },
  {
   "cell_type": "markdown",
   "metadata": {},
   "source": [
    "Python implemention of objects is very dictionary-like (from what I read and experience). But, instead of `d['title']`, we access variables (fields) of objects with `d.title`. To gain access to that notation, there is formal mechanism to create classes of objects:"
   ]
  },
  {
   "cell_type": "code",
   "execution_count": 12,
   "metadata": {},
   "outputs": [],
   "source": [
    "class Doc:\n",
    "    pass # pass means \"do nothing\"\n",
    "\n",
    "d = Doc()\n",
    "d.title = 'Cats are Human' # assign values to fields of that object\n",
    "d.content = 'blah blah'"
   ]
  },
  {
   "cell_type": "markdown",
   "metadata": {},
   "source": [
    "While we can name fields that way, it's better to use a *constructor method*:"
   ]
  },
  {
   "cell_type": "code",
   "execution_count": 13,
   "metadata": {},
   "outputs": [],
   "source": [
    "class Doc:\n",
    "    def __init__(self, title, content):\n",
    "        self.title = title\n",
    "        self.content = content"
   ]
  },
  {
   "cell_type": "code",
   "execution_count": 14,
   "metadata": {},
   "outputs": [
    {
     "data": {
      "text/plain": [
       "[<__main__.Doc at 0x7ffb086ca7f0>, <__main__.Doc at 0x7ffb086ca880>]"
      ]
     },
     "execution_count": 14,
     "metadata": {},
     "output_type": "execute_result"
    }
   ],
   "source": [
    "docs = [Doc('Cats are Human', 'blah blah'),\n",
    "        Doc(title='Dogs are fun', content='yadda yadda')]\n",
    "docs"
   ]
  },
  {
   "cell_type": "code",
   "execution_count": 15,
   "metadata": {},
   "outputs": [
    {
     "name": "stdout",
     "output_type": "stream",
     "text": [
      "Cats are Human:blah blah\n",
      "Dogs are fun:yadda yadda\n"
     ]
    }
   ],
   "source": [
    "for d in docs:\n",
    "    print(f\"{d.title}:{d.content}\")"
   ]
  },
  {
   "cell_type": "markdown",
   "metadata": {},
   "source": [
    "Using the constructor, `__init__()`, we get more readable code and it allows us to assign the incoming parameters to fields of the object.  Unfortunately, Python doesn't know how to print out our custom objects so we have to add another funny looking method:"
   ]
  },
  {
   "cell_type": "code",
   "execution_count": 16,
   "metadata": {},
   "outputs": [
    {
     "name": "stdout",
     "output_type": "stream",
     "text": [
      "Doc(Cats are Human, blah blah)\n",
      "Doc(Cats are Human, blah blah)\n"
     ]
    }
   ],
   "source": [
    "class Doc:\n",
    "    def __init__(self, title, content):\n",
    "        self.title = title\n",
    "        self.content = content\n",
    "    def __str__(self): # called when conversion to string needed like print\n",
    "        return f\"Doc({self.title}, {self.content})\"\n",
    "\n",
    "docs = [Doc('Cats are Human', 'blah blah'),\n",
    "        Doc(title='Dogs are fun', content='yadda yadda')]\n",
    "\n",
    "print(docs[0])\n",
    "print(str(docs[0]))"
   ]
  },
  {
   "cell_type": "markdown",
   "metadata": {},
   "source": [
    "**The key to understanding methods versus functions**"
   ]
  },
  {
   "cell_type": "code",
   "execution_count": 17,
   "metadata": {},
   "outputs": [],
   "source": [
    "class Doc:\n",
    "    def __init__(self, title, content):\n",
    "        self.title = title\n",
    "        self.content = content\n",
    "        \n",
    "    def save(self, filename):\n",
    "        print(f\"saving doc into {filename}\") # pretend to save\n",
    "        \n",
    "    def __str__(self): # called when conversion to string needed like print\n",
    "        return f\"Doc({self.title}, {self.content})\"\n"
   ]
  },
  {
   "cell_type": "markdown",
   "metadata": {},
   "source": [
    "For some `Doc` called `d`, `d.save(\"t.txt\")` **method call** is translated and executed by the Python interpreter as **function call** `Doc.save(d,\"t.txt\")`. `d` becomes parameter `self` and so the `save()` function is operating on doc `d`.\n",
    "\n",
    "Why we prefer `d.save(\"t.txt\")` over `Doc.save(d,\"t.txt\")`: Instead of just functions, we send messages back and forth between objects. Instead of bark(dog) we say dog.bark() or instead of inflate(ball) we say ball.inflate()."
   ]
  },
  {
   "cell_type": "markdown",
   "metadata": {},
   "source": [
    "Warning: Make sure that you use `self.x` to refer to field `x` from methods within a class, otherwise you are creating a local variable inside a method:"
   ]
  },
  {
   "cell_type": "code",
   "execution_count": 18,
   "metadata": {},
   "outputs": [],
   "source": [
    "class Foo:\n",
    "    def __init__(self, x):\n",
    "        self.x = x\n",
    "    def foo(self):\n",
    "        x = 3 # WARNING: does not alter the field! should be self.x"
   ]
  },
  {
   "cell_type": "code",
   "execution_count": 19,
   "metadata": {},
   "outputs": [
    {
     "data": {
      "text/plain": [
       "99"
      ]
     },
     "execution_count": 19,
     "metadata": {},
     "output_type": "execute_result"
    }
   ],
   "source": [
    "f = Foo(99)\n",
    "f.x"
   ]
  },
  {
   "cell_type": "code",
   "execution_count": 20,
   "metadata": {},
   "outputs": [
    {
     "data": {
      "text/plain": [
       "99"
      ]
     },
     "execution_count": 20,
     "metadata": {},
     "output_type": "execute_result"
    }
   ],
   "source": [
    "f.foo()\n",
    "f.x"
   ]
  },
  {
   "cell_type": "markdown",
   "metadata": {},
   "source": [
    "## Exercise\n",
    "\n",
    "Define a class called `Point` that has a constructor taking x, y coordinates and make them fields of the class.\n",
    "\n",
    "Define method `distance(q)` that takes a `Point` and returns the Euclidean distance  from `self` to `q`.\n",
    "\n",
    "Test with\n",
    "\n",
    "```\n",
    "p = Point(3,4)\n",
    "q = Point(5,6)\n",
    "print(p.distance(q))\n",
    "```\n",
    "\n",
    "Add method `__str__` so that `print(q)` prints something nice like `(3,4)`."
   ]
  },
  {
   "cell_type": "markdown",
   "metadata": {},
   "source": [
    "## Binary trees whose nodes are objects\n",
    "\n",
    "The tree data structure is one of the most important in computer science and is extremely common in data science as well. Decision trees, which form the core of gradient boosting machines and random forests (machine learning algorithms), are naturally represented as trees in memory. When we process HTML and XML files, those are generally represented by trees. For example:\n",
    "\n",
    "<img align=\"right\" src=\"figures/xml-tree.png\" width=\"200\"></td>\n",
    "```xml\n",
    "<bookstore>\n",
    "  <book category=\"cooking\">\n",
    "    <title lang=\"en\">Everyday Italian</title>\n",
    "    <author>Giada De Laurentiis</author>\n",
    "    <year>2005</year>\n",
    "    <price>30.00</price>\n",
    "  </book>\n",
    "  <book category=\"web\">\n",
    "    <title lang=\"en\">Learning XML</title>\n",
    "    <author>Erik T. Ray</author>\n",
    "    <year>2003</year>\n",
    "    <price>39.95</price>\n",
    "  </book>\n",
    "</bookstore>\n",
    "```\n",
    "\n",
    "We're going to look at a simple kind of tree that has at most two children: a *binary tree*. A node that has no children is called a *leaf* and non-leaves are called *internal nodes*.\n",
    "\n",
    "In general, trees with $n$ nodes have $n-1$ edges. Each node has a single incoming edge and the root has none.\n",
    "\n",
    "Nodes have *parents* and *children* and *siblings* (at the same level).\n",
    "\n",
    "Sometimes nodes have links back to their parents for programming convenience reasons. That would make it a graph not a tree but we still consider it a tree."
   ]
  },
  {
   "cell_type": "code",
   "execution_count": 21,
   "metadata": {},
   "outputs": [],
   "source": [
    "class Tree:\n",
    "    def __init__(self, value, left=None, right=None):\n",
    "        self.value = value\n",
    "        self.left = left\n",
    "        self.right = right      "
   ]
  },
  {
   "cell_type": "code",
   "execution_count": 22,
   "metadata": {},
   "outputs": [
    {
     "data": {
      "image/svg+xml": [
       "<?xml version=\"1.0\" encoding=\"UTF-8\" standalone=\"no\"?>\n",
       "<!DOCTYPE svg PUBLIC \"-//W3C//DTD SVG 1.1//EN\"\n",
       " \"http://www.w3.org/Graphics/SVG/1.1/DTD/svg11.dtd\">\n",
       "<!-- Generated by graphviz version 2.48.0 (20210717.1556)\n",
       " -->\n",
       "<!-- Title: G Pages: 1 -->\n",
       "<svg width=\"72pt\" height=\"64pt\"\n",
       " viewBox=\"0.00 0.00 72.00 64.00\" xmlns=\"http://www.w3.org/2000/svg\" xmlns:xlink=\"http://www.w3.org/1999/xlink\">\n",
       "<g id=\"graph0\" class=\"graph\" transform=\"scale(1 1) rotate(0) translate(4 60)\">\n",
       "<title>G</title>\n",
       "<polygon fill=\"white\" stroke=\"transparent\" points=\"-4,4 -4,-60 68,-60 68,4 -4,4\"/>\n",
       "<!-- node140716154910080 -->\n",
       "<g id=\"node1\" class=\"node\">\n",
       "<title>node140716154910080</title>\n",
       "<polygon fill=\"#fefecd\" stroke=\"#444443\" stroke-width=\"0.5\" points=\"64,-56 0,-56 0,0 64,0 64,-56\"/>\n",
       "<polygon fill=\"#fefecd\" stroke=\"transparent\" points=\"2,-40 2,-54 62,-54 62,-40 2,-40\"/>\n",
       "<polyline fill=\"none\" stroke=\"#444443\" points=\"2,-40 62,-40 \"/>\n",
       "<text text-anchor=\"start\" x=\"22\" y=\"-44.2\" font-family=\"Times,serif\" font-style=\"italic\" font-size=\"11.00\" fill=\"#444443\">Tree</text>\n",
       "<polygon fill=\"#fefecd\" stroke=\"transparent\" points=\"2,-38 2,-40 62,-40 62,-38 2,-38\"/>\n",
       "<polygon fill=\"#fefecd\" stroke=\"transparent\" points=\"2,-24 2,-38 34,-38 34,-24 2,-24\"/>\n",
       "<polyline fill=\"none\" stroke=\"#444443\" points=\"34,-24 34,-38 \"/>\n",
       "<text text-anchor=\"start\" x=\"3\" y=\"-28.2\" font-family=\"Helvetica,sans-Serif\" font-size=\"11.00\" fill=\"#444443\">value </text>\n",
       "<polygon fill=\"#fefecd\" stroke=\"transparent\" points=\"34,-24 34,-38 62,-38 62,-24 34,-24\"/>\n",
       "<text text-anchor=\"start\" x=\"35\" y=\"-28.2\" font-family=\"Helvetica,sans-Serif\" font-size=\"11.00\" fill=\"#444443\"> &#39;100&#39;</text>\n",
       "<polyline fill=\"none\" stroke=\"#444443\" points=\"2,-21 62,-21 \"/>\n",
       "<polygon fill=\"#fefecd\" stroke=\"transparent\" points=\"2,-19 2,-21 62,-21 62,-19 2,-19\"/>\n",
       "<polygon fill=\"#fefecd\" stroke=\"transparent\" points=\"2,-10 2,-19 34,-19 34,-10 2,-10\"/>\n",
       "<polyline fill=\"none\" stroke=\"#444443\" points=\"34,-10 34,-19 \"/>\n",
       "<text text-anchor=\"start\" x=\"3\" y=\"-13.2\" font-family=\"Helvetica,sans-Serif\" font-size=\"6.00\" fill=\"#444443\">left</text>\n",
       "<polygon fill=\"#fefecd\" stroke=\"transparent\" points=\"34,-10 34,-19 34,-19 34,-10 34,-10\"/>\n",
       "<polygon fill=\"#fefecd\" stroke=\"transparent\" points=\"34,-10 34,-19 62,-19 62,-10 34,-10\"/>\n",
       "<text text-anchor=\"start\" x=\"49\" y=\"-13.2\" font-family=\"Helvetica,sans-Serif\" font-size=\"6.00\" fill=\"#444443\">right</text>\n",
       "<polygon fill=\"#fefecd\" stroke=\"transparent\" points=\"2,-7 2,-10 34,-10 34,-7 2,-7\"/>\n",
       "<polyline fill=\"none\" stroke=\"#444443\" points=\"34,-7 34,-10 \"/>\n",
       "<text text-anchor=\"start\" x=\"17.5\" y=\"-8.2\" font-family=\"Helvetica,sans-Serif\" font-size=\"1.00\" fill=\"#444443\"> </text>\n",
       "<polygon fill=\"#fefecd\" stroke=\"transparent\" points=\"34,-7 34,-10 34,-10 34,-7 34,-7\"/>\n",
       "<polygon fill=\"#fefecd\" stroke=\"transparent\" points=\"34,-7 34,-10 62,-10 62,-7 34,-7\"/>\n",
       "<text text-anchor=\"start\" x=\"47.5\" y=\"-8.2\" font-family=\"Helvetica,sans-Serif\" font-size=\"1.00\" fill=\"#444443\"> </text>\n",
       "<polygon fill=\"#fefecd\" stroke=\"transparent\" points=\"2,-2 2,-7 34,-7 34,-2 2,-2\"/>\n",
       "<polyline fill=\"none\" stroke=\"#444443\" points=\"34,-2 34,-7 \"/>\n",
       "<text text-anchor=\"start\" x=\"17.5\" y=\"-3.6\" font-family=\"Helvetica,sans-Serif\" font-size=\"3.00\" fill=\"#444443\"> </text>\n",
       "<polygon fill=\"#fefecd\" stroke=\"transparent\" points=\"34,-2 34,-7 34,-7 34,-2 34,-2\"/>\n",
       "<polygon fill=\"#fefecd\" stroke=\"transparent\" points=\"34,-2 34,-7 62,-7 62,-2 34,-2\"/>\n",
       "<text text-anchor=\"start\" x=\"47.5\" y=\"-3.6\" font-family=\"Helvetica,sans-Serif\" font-size=\"3.00\" fill=\"#444443\"> </text>\n",
       "</g>\n",
       "</g>\n",
       "</svg>\n"
      ],
      "text/plain": [
       "<graphviz.files.Source at 0x7ffb086d9ee0>"
      ]
     },
     "execution_count": 22,
     "metadata": {},
     "output_type": "execute_result"
    }
   ],
   "source": [
    "from lolviz import *\n",
    "\n",
    "root = Tree(100)\n",
    "treeviz(root)"
   ]
  },
  {
   "cell_type": "code",
   "execution_count": 23,
   "metadata": {},
   "outputs": [
    {
     "data": {
      "image/svg+xml": [
       "<?xml version=\"1.0\" encoding=\"UTF-8\" standalone=\"no\"?>\n",
       "<!DOCTYPE svg PUBLIC \"-//W3C//DTD SVG 1.1//EN\"\n",
       " \"http://www.w3.org/Graphics/SVG/1.1/DTD/svg11.dtd\">\n",
       "<!-- Generated by graphviz version 2.48.0 (20210717.1556)\n",
       " -->\n",
       "<!-- Title: G Pages: 1 -->\n",
       "<svg width=\"135pt\" height=\"142pt\"\n",
       " viewBox=\"0.00 0.00 135.00 142.00\" xmlns=\"http://www.w3.org/2000/svg\" xmlns:xlink=\"http://www.w3.org/1999/xlink\">\n",
       "<g id=\"graph0\" class=\"graph\" transform=\"scale(1 1) rotate(0) translate(4 138)\">\n",
       "<title>G</title>\n",
       "<polygon fill=\"white\" stroke=\"transparent\" points=\"-4,4 -4,-138 131,-138 131,4 -4,4\"/>\n",
       "<!-- node140716154910080 -->\n",
       "<g id=\"node1\" class=\"node\">\n",
       "<title>node140716154910080</title>\n",
       "<polygon fill=\"#fefecd\" stroke=\"#444443\" stroke-width=\"0.5\" points=\"93,-134 29,-134 29,-78 93,-78 93,-134\"/>\n",
       "<polygon fill=\"#fefecd\" stroke=\"transparent\" points=\"31,-118 31,-132 91,-132 91,-118 31,-118\"/>\n",
       "<polyline fill=\"none\" stroke=\"#444443\" points=\"31,-118 91,-118 \"/>\n",
       "<text text-anchor=\"start\" x=\"51\" y=\"-122.2\" font-family=\"Times,serif\" font-style=\"italic\" font-size=\"11.00\" fill=\"#444443\">Tree</text>\n",
       "<polygon fill=\"#fefecd\" stroke=\"transparent\" points=\"31,-116 31,-118 91,-118 91,-116 31,-116\"/>\n",
       "<polygon fill=\"#fefecd\" stroke=\"transparent\" points=\"31,-102 31,-116 63,-116 63,-102 31,-102\"/>\n",
       "<polyline fill=\"none\" stroke=\"#444443\" points=\"63,-102 63,-116 \"/>\n",
       "<text text-anchor=\"start\" x=\"32\" y=\"-106.2\" font-family=\"Helvetica,sans-Serif\" font-size=\"11.00\" fill=\"#444443\">value </text>\n",
       "<polygon fill=\"#fefecd\" stroke=\"transparent\" points=\"63,-102 63,-116 91,-116 91,-102 63,-102\"/>\n",
       "<text text-anchor=\"start\" x=\"64\" y=\"-106.2\" font-family=\"Helvetica,sans-Serif\" font-size=\"11.00\" fill=\"#444443\"> &#39;100&#39;</text>\n",
       "<polyline fill=\"none\" stroke=\"#444443\" points=\"31,-99 91,-99 \"/>\n",
       "<polygon fill=\"#fefecd\" stroke=\"transparent\" points=\"31,-97 31,-99 91,-99 91,-97 31,-97\"/>\n",
       "<polygon fill=\"#fefecd\" stroke=\"transparent\" points=\"31,-88 31,-97 63,-97 63,-88 31,-88\"/>\n",
       "<polyline fill=\"none\" stroke=\"#444443\" points=\"63,-88 63,-97 \"/>\n",
       "<text text-anchor=\"start\" x=\"32\" y=\"-91.2\" font-family=\"Helvetica,sans-Serif\" font-size=\"6.00\" fill=\"#444443\">left</text>\n",
       "<polygon fill=\"#fefecd\" stroke=\"transparent\" points=\"63,-88 63,-97 63,-97 63,-88 63,-88\"/>\n",
       "<polygon fill=\"#fefecd\" stroke=\"transparent\" points=\"63,-88 63,-97 91,-97 91,-88 63,-88\"/>\n",
       "<text text-anchor=\"start\" x=\"78\" y=\"-91.2\" font-family=\"Helvetica,sans-Serif\" font-size=\"6.00\" fill=\"#444443\">right</text>\n",
       "<polygon fill=\"#fefecd\" stroke=\"transparent\" points=\"31,-85 31,-88 63,-88 63,-85 31,-85\"/>\n",
       "<polyline fill=\"none\" stroke=\"#444443\" points=\"63,-85 63,-88 \"/>\n",
       "<text text-anchor=\"start\" x=\"46.5\" y=\"-86.2\" font-family=\"Helvetica,sans-Serif\" font-size=\"1.00\" fill=\"#444443\"> </text>\n",
       "<polygon fill=\"#fefecd\" stroke=\"transparent\" points=\"63,-85 63,-88 63,-88 63,-85 63,-85\"/>\n",
       "<polygon fill=\"#fefecd\" stroke=\"transparent\" points=\"63,-85 63,-88 91,-88 91,-85 63,-85\"/>\n",
       "<text text-anchor=\"start\" x=\"76.5\" y=\"-86.2\" font-family=\"Helvetica,sans-Serif\" font-size=\"1.00\" fill=\"#444443\"> </text>\n",
       "<polygon fill=\"#fefecd\" stroke=\"transparent\" points=\"31,-80 31,-85 63,-85 63,-80 31,-80\"/>\n",
       "<polyline fill=\"none\" stroke=\"#444443\" points=\"63,-80 63,-85 \"/>\n",
       "<text text-anchor=\"start\" x=\"46.5\" y=\"-81.6\" font-family=\"Helvetica,sans-Serif\" font-size=\"3.00\" fill=\"#444443\"> </text>\n",
       "<polygon fill=\"#fefecd\" stroke=\"transparent\" points=\"63,-80 63,-85 63,-85 63,-80 63,-80\"/>\n",
       "<polygon fill=\"#fefecd\" stroke=\"transparent\" points=\"63,-80 63,-85 91,-85 91,-80 63,-80\"/>\n",
       "<text text-anchor=\"start\" x=\"76.5\" y=\"-81.6\" font-family=\"Helvetica,sans-Serif\" font-size=\"3.00\" fill=\"#444443\"> </text>\n",
       "</g>\n",
       "<!-- node140716960293264 -->\n",
       "<g id=\"node2\" class=\"node\">\n",
       "<title>node140716960293264</title>\n",
       "<polygon fill=\"#fefecd\" stroke=\"#444443\" stroke-width=\"0.5\" points=\"58,-56 0,-56 0,0 58,0 58,-56\"/>\n",
       "<polygon fill=\"#fefecd\" stroke=\"transparent\" points=\"2,-40 2,-54 56,-54 56,-40 2,-40\"/>\n",
       "<polyline fill=\"none\" stroke=\"#444443\" points=\"2,-40 56,-40 \"/>\n",
       "<text text-anchor=\"start\" x=\"19\" y=\"-44.2\" font-family=\"Times,serif\" font-style=\"italic\" font-size=\"11.00\" fill=\"#444443\">Tree</text>\n",
       "<polygon fill=\"#fefecd\" stroke=\"transparent\" points=\"2,-38 2,-40 56,-40 56,-38 2,-38\"/>\n",
       "<polygon fill=\"#fefecd\" stroke=\"transparent\" points=\"2,-24 2,-38 34,-38 34,-24 2,-24\"/>\n",
       "<polyline fill=\"none\" stroke=\"#444443\" points=\"34,-24 34,-38 \"/>\n",
       "<text text-anchor=\"start\" x=\"3\" y=\"-28.2\" font-family=\"Helvetica,sans-Serif\" font-size=\"11.00\" fill=\"#444443\">value </text>\n",
       "<polygon fill=\"#fefecd\" stroke=\"transparent\" points=\"34,-24 34,-38 56,-38 56,-24 34,-24\"/>\n",
       "<text text-anchor=\"start\" x=\"35\" y=\"-28.2\" font-family=\"Helvetica,sans-Serif\" font-size=\"11.00\" fill=\"#444443\"> &#39;42&#39;</text>\n",
       "<polyline fill=\"none\" stroke=\"#444443\" points=\"2,-21 56,-21 \"/>\n",
       "<polygon fill=\"#fefecd\" stroke=\"transparent\" points=\"2,-19 2,-21 56,-21 56,-19 2,-19\"/>\n",
       "<polygon fill=\"#fefecd\" stroke=\"transparent\" points=\"2,-10 2,-19 34,-19 34,-10 2,-10\"/>\n",
       "<polyline fill=\"none\" stroke=\"#444443\" points=\"34,-10 34,-19 \"/>\n",
       "<text text-anchor=\"start\" x=\"3\" y=\"-13.2\" font-family=\"Helvetica,sans-Serif\" font-size=\"6.00\" fill=\"#444443\">left</text>\n",
       "<polygon fill=\"#fefecd\" stroke=\"transparent\" points=\"34,-10 34,-19 34,-19 34,-10 34,-10\"/>\n",
       "<polygon fill=\"#fefecd\" stroke=\"transparent\" points=\"34,-10 34,-19 56,-19 56,-10 34,-10\"/>\n",
       "<text text-anchor=\"start\" x=\"43\" y=\"-13.2\" font-family=\"Helvetica,sans-Serif\" font-size=\"6.00\" fill=\"#444443\">right</text>\n",
       "<polygon fill=\"#fefecd\" stroke=\"transparent\" points=\"2,-7 2,-10 34,-10 34,-7 2,-7\"/>\n",
       "<polyline fill=\"none\" stroke=\"#444443\" points=\"34,-7 34,-10 \"/>\n",
       "<text text-anchor=\"start\" x=\"17.5\" y=\"-8.2\" font-family=\"Helvetica,sans-Serif\" font-size=\"1.00\" fill=\"#444443\"> </text>\n",
       "<polygon fill=\"#fefecd\" stroke=\"transparent\" points=\"34,-7 34,-10 34,-10 34,-7 34,-7\"/>\n",
       "<polygon fill=\"#fefecd\" stroke=\"transparent\" points=\"34,-7 34,-10 56,-10 56,-7 34,-7\"/>\n",
       "<text text-anchor=\"start\" x=\"44.5\" y=\"-8.2\" font-family=\"Helvetica,sans-Serif\" font-size=\"1.00\" fill=\"#444443\"> </text>\n",
       "<polygon fill=\"#fefecd\" stroke=\"transparent\" points=\"2,-2 2,-7 34,-7 34,-2 2,-2\"/>\n",
       "<polyline fill=\"none\" stroke=\"#444443\" points=\"34,-2 34,-7 \"/>\n",
       "<text text-anchor=\"start\" x=\"17.5\" y=\"-3.6\" font-family=\"Helvetica,sans-Serif\" font-size=\"3.00\" fill=\"#444443\"> </text>\n",
       "<polygon fill=\"#fefecd\" stroke=\"transparent\" points=\"34,-2 34,-7 34,-7 34,-2 34,-2\"/>\n",
       "<polygon fill=\"#fefecd\" stroke=\"transparent\" points=\"34,-2 34,-7 56,-7 56,-2 34,-2\"/>\n",
       "<text text-anchor=\"start\" x=\"44.5\" y=\"-3.6\" font-family=\"Helvetica,sans-Serif\" font-size=\"3.00\" fill=\"#444443\"> </text>\n",
       "</g>\n",
       "<!-- node140716154910080&#45;&gt;node140716960293264 -->\n",
       "<g id=\"edge1\" class=\"edge\">\n",
       "<title>node140716154910080:c&#45;&gt;node140716960293264</title>\n",
       "<path fill=\"none\" stroke=\"#444443\" stroke-width=\"0.5\" d=\"M45.99,-81.85C44.56,-77.41 41.81,-68.84 38.92,-59.87\"/>\n",
       "<ellipse fill=\"#444443\" stroke=\"#444443\" stroke-width=\"0.5\" cx=\"46.51\" cy=\"-83.48\" rx=\"1.6\" ry=\"1.6\"/>\n",
       "<polygon fill=\"#444443\" stroke=\"#444443\" stroke-width=\"0.5\" points=\"40.24,-59.4 37.68,-56.02 37.57,-60.25 40.24,-59.4\"/>\n",
       "</g>\n",
       "<!-- node140716960296912 -->\n",
       "<g id=\"node3\" class=\"node\">\n",
       "<title>node140716960296912</title>\n",
       "<polygon fill=\"#fefecd\" stroke=\"#444443\" stroke-width=\"0.5\" points=\"127,-56 65,-56 65,0 127,0 127,-56\"/>\n",
       "<polygon fill=\"#fefecd\" stroke=\"transparent\" points=\"67,-40 67,-54 125,-54 125,-40 67,-40\"/>\n",
       "<polyline fill=\"none\" stroke=\"#444443\" points=\"67,-40 125,-40 \"/>\n",
       "<text text-anchor=\"start\" x=\"86\" y=\"-44.2\" font-family=\"Times,serif\" font-style=\"italic\" font-size=\"11.00\" fill=\"#444443\">Tree</text>\n",
       "<polygon fill=\"#fefecd\" stroke=\"transparent\" points=\"67,-38 67,-40 125,-40 125,-38 67,-38\"/>\n",
       "<polygon fill=\"#fefecd\" stroke=\"transparent\" points=\"67,-24 67,-38 99,-38 99,-24 67,-24\"/>\n",
       "<polyline fill=\"none\" stroke=\"#444443\" points=\"99,-24 99,-38 \"/>\n",
       "<text text-anchor=\"start\" x=\"68\" y=\"-28.2\" font-family=\"Helvetica,sans-Serif\" font-size=\"11.00\" fill=\"#444443\">value </text>\n",
       "<polygon fill=\"#fefecd\" stroke=\"transparent\" points=\"99,-24 99,-38 125,-38 125,-24 99,-24\"/>\n",
       "<text text-anchor=\"start\" x=\"100\" y=\"-28.2\" font-family=\"Helvetica,sans-Serif\" font-size=\"11.00\" fill=\"#444443\"> &#39;111&#39;</text>\n",
       "<polyline fill=\"none\" stroke=\"#444443\" points=\"67,-21 125,-21 \"/>\n",
       "<polygon fill=\"#fefecd\" stroke=\"transparent\" points=\"67,-19 67,-21 125,-21 125,-19 67,-19\"/>\n",
       "<polygon fill=\"#fefecd\" stroke=\"transparent\" points=\"67,-10 67,-19 99,-19 99,-10 67,-10\"/>\n",
       "<polyline fill=\"none\" stroke=\"#444443\" points=\"99,-10 99,-19 \"/>\n",
       "<text text-anchor=\"start\" x=\"68\" y=\"-13.2\" font-family=\"Helvetica,sans-Serif\" font-size=\"6.00\" fill=\"#444443\">left</text>\n",
       "<polygon fill=\"#fefecd\" stroke=\"transparent\" points=\"99,-10 99,-19 99,-19 99,-10 99,-10\"/>\n",
       "<polygon fill=\"#fefecd\" stroke=\"transparent\" points=\"99,-10 99,-19 125,-19 125,-10 99,-10\"/>\n",
       "<text text-anchor=\"start\" x=\"112\" y=\"-13.2\" font-family=\"Helvetica,sans-Serif\" font-size=\"6.00\" fill=\"#444443\">right</text>\n",
       "<polygon fill=\"#fefecd\" stroke=\"transparent\" points=\"67,-7 67,-10 99,-10 99,-7 67,-7\"/>\n",
       "<polyline fill=\"none\" stroke=\"#444443\" points=\"99,-7 99,-10 \"/>\n",
       "<text text-anchor=\"start\" x=\"82.5\" y=\"-8.2\" font-family=\"Helvetica,sans-Serif\" font-size=\"1.00\" fill=\"#444443\"> </text>\n",
       "<polygon fill=\"#fefecd\" stroke=\"transparent\" points=\"99,-7 99,-10 99,-10 99,-7 99,-7\"/>\n",
       "<polygon fill=\"#fefecd\" stroke=\"transparent\" points=\"99,-7 99,-10 125,-10 125,-7 99,-7\"/>\n",
       "<text text-anchor=\"start\" x=\"111.5\" y=\"-8.2\" font-family=\"Helvetica,sans-Serif\" font-size=\"1.00\" fill=\"#444443\"> </text>\n",
       "<polygon fill=\"#fefecd\" stroke=\"transparent\" points=\"67,-2 67,-7 99,-7 99,-2 67,-2\"/>\n",
       "<polyline fill=\"none\" stroke=\"#444443\" points=\"99,-2 99,-7 \"/>\n",
       "<text text-anchor=\"start\" x=\"82.5\" y=\"-3.6\" font-family=\"Helvetica,sans-Serif\" font-size=\"3.00\" fill=\"#444443\"> </text>\n",
       "<polygon fill=\"#fefecd\" stroke=\"transparent\" points=\"99,-2 99,-7 99,-7 99,-2 99,-2\"/>\n",
       "<polygon fill=\"#fefecd\" stroke=\"transparent\" points=\"99,-2 99,-7 125,-7 125,-2 99,-2\"/>\n",
       "<text text-anchor=\"start\" x=\"111.5\" y=\"-3.6\" font-family=\"Helvetica,sans-Serif\" font-size=\"3.00\" fill=\"#444443\"> </text>\n",
       "</g>\n",
       "<!-- node140716154910080&#45;&gt;node140716960296912 -->\n",
       "<g id=\"edge2\" class=\"edge\">\n",
       "<title>node140716154910080:c&#45;&gt;node140716960296912</title>\n",
       "<path fill=\"none\" stroke=\"#444443\" stroke-width=\"0.5\" d=\"M78.07,-81.85C79.57,-77.41 82.48,-68.84 85.53,-59.87\"/>\n",
       "<ellipse fill=\"#444443\" stroke=\"#444443\" stroke-width=\"0.5\" cx=\"77.51\" cy=\"-83.48\" rx=\"1.6\" ry=\"1.6\"/>\n",
       "<polygon fill=\"#444443\" stroke=\"#444443\" stroke-width=\"0.5\" points=\"86.87,-60.25 86.83,-56.02 84.22,-59.35 86.87,-60.25\"/>\n",
       "</g>\n",
       "</g>\n",
       "</svg>\n"
      ],
      "text/plain": [
       "<graphviz.files.Source at 0x7ffb386ea760>"
      ]
     },
     "execution_count": 23,
     "metadata": {},
     "output_type": "execute_result"
    }
   ],
   "source": [
    "root.left = Tree(42)\n",
    "root.right = Tree(111)\n",
    "treeviz(root)"
   ]
  },
  {
   "cell_type": "markdown",
   "metadata": {},
   "source": [
    "Here's an alternate spec:"
   ]
  },
  {
   "cell_type": "code",
   "execution_count": 24,
   "metadata": {},
   "outputs": [
    {
     "data": {
      "image/svg+xml": [
       "<?xml version=\"1.0\" encoding=\"UTF-8\" standalone=\"no\"?>\n",
       "<!DOCTYPE svg PUBLIC \"-//W3C//DTD SVG 1.1//EN\"\n",
       " \"http://www.w3.org/Graphics/SVG/1.1/DTD/svg11.dtd\">\n",
       "<!-- Generated by graphviz version 2.48.0 (20210717.1556)\n",
       " -->\n",
       "<!-- Title: G Pages: 1 -->\n",
       "<svg width=\"135pt\" height=\"142pt\"\n",
       " viewBox=\"0.00 0.00 135.00 142.00\" xmlns=\"http://www.w3.org/2000/svg\" xmlns:xlink=\"http://www.w3.org/1999/xlink\">\n",
       "<g id=\"graph0\" class=\"graph\" transform=\"scale(1 1) rotate(0) translate(4 138)\">\n",
       "<title>G</title>\n",
       "<polygon fill=\"white\" stroke=\"transparent\" points=\"-4,4 -4,-138 131,-138 131,4 -4,4\"/>\n",
       "<!-- node140716154859328 -->\n",
       "<g id=\"node1\" class=\"node\">\n",
       "<title>node140716154859328</title>\n",
       "<polygon fill=\"#fefecd\" stroke=\"#444443\" stroke-width=\"0.5\" points=\"93,-134 29,-134 29,-78 93,-78 93,-134\"/>\n",
       "<polygon fill=\"#fefecd\" stroke=\"transparent\" points=\"31,-118 31,-132 91,-132 91,-118 31,-118\"/>\n",
       "<polyline fill=\"none\" stroke=\"#444443\" points=\"31,-118 91,-118 \"/>\n",
       "<text text-anchor=\"start\" x=\"51\" y=\"-122.2\" font-family=\"Times,serif\" font-style=\"italic\" font-size=\"11.00\" fill=\"#444443\">Tree</text>\n",
       "<polygon fill=\"#fefecd\" stroke=\"transparent\" points=\"31,-116 31,-118 91,-118 91,-116 31,-116\"/>\n",
       "<polygon fill=\"#fefecd\" stroke=\"transparent\" points=\"31,-102 31,-116 63,-116 63,-102 31,-102\"/>\n",
       "<polyline fill=\"none\" stroke=\"#444443\" points=\"63,-102 63,-116 \"/>\n",
       "<text text-anchor=\"start\" x=\"32\" y=\"-106.2\" font-family=\"Helvetica,sans-Serif\" font-size=\"11.00\" fill=\"#444443\">value </text>\n",
       "<polygon fill=\"#fefecd\" stroke=\"transparent\" points=\"63,-102 63,-116 91,-116 91,-102 63,-102\"/>\n",
       "<text text-anchor=\"start\" x=\"64\" y=\"-106.2\" font-family=\"Helvetica,sans-Serif\" font-size=\"11.00\" fill=\"#444443\"> &#39;100&#39;</text>\n",
       "<polyline fill=\"none\" stroke=\"#444443\" points=\"31,-99 91,-99 \"/>\n",
       "<polygon fill=\"#fefecd\" stroke=\"transparent\" points=\"31,-97 31,-99 91,-99 91,-97 31,-97\"/>\n",
       "<polygon fill=\"#fefecd\" stroke=\"transparent\" points=\"31,-88 31,-97 63,-97 63,-88 31,-88\"/>\n",
       "<polyline fill=\"none\" stroke=\"#444443\" points=\"63,-88 63,-97 \"/>\n",
       "<text text-anchor=\"start\" x=\"32\" y=\"-91.2\" font-family=\"Helvetica,sans-Serif\" font-size=\"6.00\" fill=\"#444443\">left</text>\n",
       "<polygon fill=\"#fefecd\" stroke=\"transparent\" points=\"63,-88 63,-97 63,-97 63,-88 63,-88\"/>\n",
       "<polygon fill=\"#fefecd\" stroke=\"transparent\" points=\"63,-88 63,-97 91,-97 91,-88 63,-88\"/>\n",
       "<text text-anchor=\"start\" x=\"78\" y=\"-91.2\" font-family=\"Helvetica,sans-Serif\" font-size=\"6.00\" fill=\"#444443\">right</text>\n",
       "<polygon fill=\"#fefecd\" stroke=\"transparent\" points=\"31,-85 31,-88 63,-88 63,-85 31,-85\"/>\n",
       "<polyline fill=\"none\" stroke=\"#444443\" points=\"63,-85 63,-88 \"/>\n",
       "<text text-anchor=\"start\" x=\"46.5\" y=\"-86.2\" font-family=\"Helvetica,sans-Serif\" font-size=\"1.00\" fill=\"#444443\"> </text>\n",
       "<polygon fill=\"#fefecd\" stroke=\"transparent\" points=\"63,-85 63,-88 63,-88 63,-85 63,-85\"/>\n",
       "<polygon fill=\"#fefecd\" stroke=\"transparent\" points=\"63,-85 63,-88 91,-88 91,-85 63,-85\"/>\n",
       "<text text-anchor=\"start\" x=\"76.5\" y=\"-86.2\" font-family=\"Helvetica,sans-Serif\" font-size=\"1.00\" fill=\"#444443\"> </text>\n",
       "<polygon fill=\"#fefecd\" stroke=\"transparent\" points=\"31,-80 31,-85 63,-85 63,-80 31,-80\"/>\n",
       "<polyline fill=\"none\" stroke=\"#444443\" points=\"63,-80 63,-85 \"/>\n",
       "<text text-anchor=\"start\" x=\"46.5\" y=\"-81.6\" font-family=\"Helvetica,sans-Serif\" font-size=\"3.00\" fill=\"#444443\"> </text>\n",
       "<polygon fill=\"#fefecd\" stroke=\"transparent\" points=\"63,-80 63,-85 63,-85 63,-80 63,-80\"/>\n",
       "<polygon fill=\"#fefecd\" stroke=\"transparent\" points=\"63,-80 63,-85 91,-85 91,-80 63,-80\"/>\n",
       "<text text-anchor=\"start\" x=\"76.5\" y=\"-81.6\" font-family=\"Helvetica,sans-Serif\" font-size=\"3.00\" fill=\"#444443\"> </text>\n",
       "</g>\n",
       "<!-- node140716154857888 -->\n",
       "<g id=\"node2\" class=\"node\">\n",
       "<title>node140716154857888</title>\n",
       "<polygon fill=\"#fefecd\" stroke=\"#444443\" stroke-width=\"0.5\" points=\"58,-56 0,-56 0,0 58,0 58,-56\"/>\n",
       "<polygon fill=\"#fefecd\" stroke=\"transparent\" points=\"2,-40 2,-54 56,-54 56,-40 2,-40\"/>\n",
       "<polyline fill=\"none\" stroke=\"#444443\" points=\"2,-40 56,-40 \"/>\n",
       "<text text-anchor=\"start\" x=\"19\" y=\"-44.2\" font-family=\"Times,serif\" font-style=\"italic\" font-size=\"11.00\" fill=\"#444443\">Tree</text>\n",
       "<polygon fill=\"#fefecd\" stroke=\"transparent\" points=\"2,-38 2,-40 56,-40 56,-38 2,-38\"/>\n",
       "<polygon fill=\"#fefecd\" stroke=\"transparent\" points=\"2,-24 2,-38 34,-38 34,-24 2,-24\"/>\n",
       "<polyline fill=\"none\" stroke=\"#444443\" points=\"34,-24 34,-38 \"/>\n",
       "<text text-anchor=\"start\" x=\"3\" y=\"-28.2\" font-family=\"Helvetica,sans-Serif\" font-size=\"11.00\" fill=\"#444443\">value </text>\n",
       "<polygon fill=\"#fefecd\" stroke=\"transparent\" points=\"34,-24 34,-38 56,-38 56,-24 34,-24\"/>\n",
       "<text text-anchor=\"start\" x=\"35\" y=\"-28.2\" font-family=\"Helvetica,sans-Serif\" font-size=\"11.00\" fill=\"#444443\"> &#39;42&#39;</text>\n",
       "<polyline fill=\"none\" stroke=\"#444443\" points=\"2,-21 56,-21 \"/>\n",
       "<polygon fill=\"#fefecd\" stroke=\"transparent\" points=\"2,-19 2,-21 56,-21 56,-19 2,-19\"/>\n",
       "<polygon fill=\"#fefecd\" stroke=\"transparent\" points=\"2,-10 2,-19 34,-19 34,-10 2,-10\"/>\n",
       "<polyline fill=\"none\" stroke=\"#444443\" points=\"34,-10 34,-19 \"/>\n",
       "<text text-anchor=\"start\" x=\"3\" y=\"-13.2\" font-family=\"Helvetica,sans-Serif\" font-size=\"6.00\" fill=\"#444443\">left</text>\n",
       "<polygon fill=\"#fefecd\" stroke=\"transparent\" points=\"34,-10 34,-19 34,-19 34,-10 34,-10\"/>\n",
       "<polygon fill=\"#fefecd\" stroke=\"transparent\" points=\"34,-10 34,-19 56,-19 56,-10 34,-10\"/>\n",
       "<text text-anchor=\"start\" x=\"43\" y=\"-13.2\" font-family=\"Helvetica,sans-Serif\" font-size=\"6.00\" fill=\"#444443\">right</text>\n",
       "<polygon fill=\"#fefecd\" stroke=\"transparent\" points=\"2,-7 2,-10 34,-10 34,-7 2,-7\"/>\n",
       "<polyline fill=\"none\" stroke=\"#444443\" points=\"34,-7 34,-10 \"/>\n",
       "<text text-anchor=\"start\" x=\"17.5\" y=\"-8.2\" font-family=\"Helvetica,sans-Serif\" font-size=\"1.00\" fill=\"#444443\"> </text>\n",
       "<polygon fill=\"#fefecd\" stroke=\"transparent\" points=\"34,-7 34,-10 34,-10 34,-7 34,-7\"/>\n",
       "<polygon fill=\"#fefecd\" stroke=\"transparent\" points=\"34,-7 34,-10 56,-10 56,-7 34,-7\"/>\n",
       "<text text-anchor=\"start\" x=\"44.5\" y=\"-8.2\" font-family=\"Helvetica,sans-Serif\" font-size=\"1.00\" fill=\"#444443\"> </text>\n",
       "<polygon fill=\"#fefecd\" stroke=\"transparent\" points=\"2,-2 2,-7 34,-7 34,-2 2,-2\"/>\n",
       "<polyline fill=\"none\" stroke=\"#444443\" points=\"34,-2 34,-7 \"/>\n",
       "<text text-anchor=\"start\" x=\"17.5\" y=\"-3.6\" font-family=\"Helvetica,sans-Serif\" font-size=\"3.00\" fill=\"#444443\"> </text>\n",
       "<polygon fill=\"#fefecd\" stroke=\"transparent\" points=\"34,-2 34,-7 34,-7 34,-2 34,-2\"/>\n",
       "<polygon fill=\"#fefecd\" stroke=\"transparent\" points=\"34,-2 34,-7 56,-7 56,-2 34,-2\"/>\n",
       "<text text-anchor=\"start\" x=\"44.5\" y=\"-3.6\" font-family=\"Helvetica,sans-Serif\" font-size=\"3.00\" fill=\"#444443\"> </text>\n",
       "</g>\n",
       "<!-- node140716154859328&#45;&gt;node140716154857888 -->\n",
       "<g id=\"edge1\" class=\"edge\">\n",
       "<title>node140716154859328:c&#45;&gt;node140716154857888</title>\n",
       "<path fill=\"none\" stroke=\"#444443\" stroke-width=\"0.5\" d=\"M45.99,-81.85C44.56,-77.41 41.81,-68.84 38.92,-59.87\"/>\n",
       "<ellipse fill=\"#444443\" stroke=\"#444443\" stroke-width=\"0.5\" cx=\"46.51\" cy=\"-83.48\" rx=\"1.6\" ry=\"1.6\"/>\n",
       "<polygon fill=\"#444443\" stroke=\"#444443\" stroke-width=\"0.5\" points=\"40.24,-59.4 37.68,-56.02 37.57,-60.25 40.24,-59.4\"/>\n",
       "</g>\n",
       "<!-- node140716154856496 -->\n",
       "<g id=\"node3\" class=\"node\">\n",
       "<title>node140716154856496</title>\n",
       "<polygon fill=\"#fefecd\" stroke=\"#444443\" stroke-width=\"0.5\" points=\"127,-56 65,-56 65,0 127,0 127,-56\"/>\n",
       "<polygon fill=\"#fefecd\" stroke=\"transparent\" points=\"67,-40 67,-54 125,-54 125,-40 67,-40\"/>\n",
       "<polyline fill=\"none\" stroke=\"#444443\" points=\"67,-40 125,-40 \"/>\n",
       "<text text-anchor=\"start\" x=\"86\" y=\"-44.2\" font-family=\"Times,serif\" font-style=\"italic\" font-size=\"11.00\" fill=\"#444443\">Tree</text>\n",
       "<polygon fill=\"#fefecd\" stroke=\"transparent\" points=\"67,-38 67,-40 125,-40 125,-38 67,-38\"/>\n",
       "<polygon fill=\"#fefecd\" stroke=\"transparent\" points=\"67,-24 67,-38 99,-38 99,-24 67,-24\"/>\n",
       "<polyline fill=\"none\" stroke=\"#444443\" points=\"99,-24 99,-38 \"/>\n",
       "<text text-anchor=\"start\" x=\"68\" y=\"-28.2\" font-family=\"Helvetica,sans-Serif\" font-size=\"11.00\" fill=\"#444443\">value </text>\n",
       "<polygon fill=\"#fefecd\" stroke=\"transparent\" points=\"99,-24 99,-38 125,-38 125,-24 99,-24\"/>\n",
       "<text text-anchor=\"start\" x=\"100\" y=\"-28.2\" font-family=\"Helvetica,sans-Serif\" font-size=\"11.00\" fill=\"#444443\"> &#39;111&#39;</text>\n",
       "<polyline fill=\"none\" stroke=\"#444443\" points=\"67,-21 125,-21 \"/>\n",
       "<polygon fill=\"#fefecd\" stroke=\"transparent\" points=\"67,-19 67,-21 125,-21 125,-19 67,-19\"/>\n",
       "<polygon fill=\"#fefecd\" stroke=\"transparent\" points=\"67,-10 67,-19 99,-19 99,-10 67,-10\"/>\n",
       "<polyline fill=\"none\" stroke=\"#444443\" points=\"99,-10 99,-19 \"/>\n",
       "<text text-anchor=\"start\" x=\"68\" y=\"-13.2\" font-family=\"Helvetica,sans-Serif\" font-size=\"6.00\" fill=\"#444443\">left</text>\n",
       "<polygon fill=\"#fefecd\" stroke=\"transparent\" points=\"99,-10 99,-19 99,-19 99,-10 99,-10\"/>\n",
       "<polygon fill=\"#fefecd\" stroke=\"transparent\" points=\"99,-10 99,-19 125,-19 125,-10 99,-10\"/>\n",
       "<text text-anchor=\"start\" x=\"112\" y=\"-13.2\" font-family=\"Helvetica,sans-Serif\" font-size=\"6.00\" fill=\"#444443\">right</text>\n",
       "<polygon fill=\"#fefecd\" stroke=\"transparent\" points=\"67,-7 67,-10 99,-10 99,-7 67,-7\"/>\n",
       "<polyline fill=\"none\" stroke=\"#444443\" points=\"99,-7 99,-10 \"/>\n",
       "<text text-anchor=\"start\" x=\"82.5\" y=\"-8.2\" font-family=\"Helvetica,sans-Serif\" font-size=\"1.00\" fill=\"#444443\"> </text>\n",
       "<polygon fill=\"#fefecd\" stroke=\"transparent\" points=\"99,-7 99,-10 99,-10 99,-7 99,-7\"/>\n",
       "<polygon fill=\"#fefecd\" stroke=\"transparent\" points=\"99,-7 99,-10 125,-10 125,-7 99,-7\"/>\n",
       "<text text-anchor=\"start\" x=\"111.5\" y=\"-8.2\" font-family=\"Helvetica,sans-Serif\" font-size=\"1.00\" fill=\"#444443\"> </text>\n",
       "<polygon fill=\"#fefecd\" stroke=\"transparent\" points=\"67,-2 67,-7 99,-7 99,-2 67,-2\"/>\n",
       "<polyline fill=\"none\" stroke=\"#444443\" points=\"99,-2 99,-7 \"/>\n",
       "<text text-anchor=\"start\" x=\"82.5\" y=\"-3.6\" font-family=\"Helvetica,sans-Serif\" font-size=\"3.00\" fill=\"#444443\"> </text>\n",
       "<polygon fill=\"#fefecd\" stroke=\"transparent\" points=\"99,-2 99,-7 99,-7 99,-2 99,-2\"/>\n",
       "<polygon fill=\"#fefecd\" stroke=\"transparent\" points=\"99,-2 99,-7 125,-7 125,-2 99,-2\"/>\n",
       "<text text-anchor=\"start\" x=\"111.5\" y=\"-3.6\" font-family=\"Helvetica,sans-Serif\" font-size=\"3.00\" fill=\"#444443\"> </text>\n",
       "</g>\n",
       "<!-- node140716154859328&#45;&gt;node140716154856496 -->\n",
       "<g id=\"edge2\" class=\"edge\">\n",
       "<title>node140716154859328:c&#45;&gt;node140716154856496</title>\n",
       "<path fill=\"none\" stroke=\"#444443\" stroke-width=\"0.5\" d=\"M78.07,-81.85C79.57,-77.41 82.48,-68.84 85.53,-59.87\"/>\n",
       "<ellipse fill=\"#444443\" stroke=\"#444443\" stroke-width=\"0.5\" cx=\"77.51\" cy=\"-83.48\" rx=\"1.6\" ry=\"1.6\"/>\n",
       "<polygon fill=\"#444443\" stroke=\"#444443\" stroke-width=\"0.5\" points=\"86.87,-60.25 86.83,-56.02 84.22,-59.35 86.87,-60.25\"/>\n",
       "</g>\n",
       "</g>\n",
       "</svg>\n"
      ],
      "text/plain": [
       "<graphviz.files.Source at 0x7ffb086ca970>"
      ]
     },
     "execution_count": 24,
     "metadata": {},
     "output_type": "execute_result"
    }
   ],
   "source": [
    "root = Tree(100, Tree(42), Tree(111))\n",
    "treeviz(root)"
   ]
  },
  {
   "cell_type": "markdown",
   "metadata": {},
   "source": [
    "We will look at these in more detail in MSDS621 as you'll be building decision trees via similar objects"
   ]
  },
  {
   "cell_type": "markdown",
   "metadata": {},
   "source": [
    "## Operator overloading\n",
    "\n",
    "Python allows class definitions to implement functions that are called when standard operator symbols such as `+` and `/` are applied to objects of that type. This is extremely useful for mathematical libraries such as numpy, but is often abused. Note that you could redefine subtraction to be multiplication when someone used the `-` sign. (Yikes!)\n",
    "\n",
    "Here's an extension to `Point` that supports `+` for `Point` addition:"
   ]
  },
  {
   "cell_type": "code",
   "execution_count": 25,
   "metadata": {},
   "outputs": [],
   "source": [
    "import numpy as np\n",
    "\n",
    "class Point:\n",
    "    def __init__(self, x, y):\n",
    "        self.x = x\n",
    "        self.y = y\n",
    "            \n",
    "    def __add__(self,other):\n",
    "        x = self.x + other.x\n",
    "        y = self.y + other.y\n",
    "        return Point(x,y)\n",
    "    \n",
    "    def __str__(self):\n",
    "        return f\"({self.x},{self.y})\""
   ]
  },
  {
   "cell_type": "code",
   "execution_count": 26,
   "metadata": {},
   "outputs": [
    {
     "name": "stdout",
     "output_type": "stream",
     "text": [
      "(3,4) (5,6)\n",
      "(8,10)\n",
      "(8,10)\n"
     ]
    }
   ],
   "source": [
    "p = Point(3,4)\n",
    "q = Point(5,6)\n",
    "print(p, q)\n",
    "print(p + q) # calls p.__add__(q) or Point.__add__(p,q)\n",
    "print(Point.__add__(p,q))"
   ]
  }
 ],
 "metadata": {
  "kernelspec": {
   "display_name": "Python 3",
   "language": "python",
   "name": "python3"
  },
  "language_info": {
   "codemirror_mode": {
    "name": "ipython",
    "version": 3
   },
   "file_extension": ".py",
   "mimetype": "text/x-python",
   "name": "python",
   "nbconvert_exporter": "python",
   "pygments_lexer": "ipython3",
   "version": "3.8.8"
  },
  "toc": {
   "colors": {
    "hover_highlight": "#DAA520",
    "navigate_num": "#000000",
    "navigate_text": "#333333",
    "running_highlight": "#FF0000",
    "selected_highlight": "#FFD700",
    "sidebar_border": "#EEEEEE",
    "wrapper_background": "#FFFFFF"
   },
   "moveMenuLeft": true,
   "nav_menu": {
    "height": "130.5px",
    "width": "252px"
   },
   "navigate_menu": true,
   "number_sections": true,
   "sideBar": true,
   "threshold": 4,
   "toc_cell": false,
   "toc_section_display": "block",
   "toc_window_display": false,
   "widenNotebook": false
  }
 },
 "nbformat": 4,
 "nbformat_minor": 4
}
